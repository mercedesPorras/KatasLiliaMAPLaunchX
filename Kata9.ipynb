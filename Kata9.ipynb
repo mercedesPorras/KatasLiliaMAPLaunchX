{
 "cells": [
  {
   "cell_type": "markdown",
   "metadata": {},
   "source": [
    "## Ejercicio 1"
   ]
  },
  {
   "cell_type": "code",
   "execution_count": 7,
   "metadata": {},
   "outputs": [],
   "source": [
    "# Paso 2 crear una funsion que necesite 3 tanques de combustible \n",
    "def reporte(tanque_prin, tanque_sec, tanque_ter):\n",
    "    promedio = (tanque_prin + tanque_sec + tanque_ter) / 3\n",
    "    return f\"\"\"Reporte:\n",
    "    El promedio del combustible es: {promedio}%\n",
    "    Primer Tanque: {tanque_prin}%\n",
    "    Segundo Tanque: {tanque_sec}%\n",
    "    Tercer Tanque: {tanque_ter}% \n",
    "    \"\"\"\n",
    "\n"
   ]
  },
  {
   "cell_type": "code",
   "execution_count": 11,
   "metadata": {},
   "outputs": [
    {
     "name": "stdout",
     "output_type": "stream",
     "text": [
      "Reporte:\n",
      "    Promedio: 68.33333333333333%\n",
      "    Primer Tanque: 70%\n",
      "    Segundo Tanque: 70%\n",
      "    Tercer Tanque: 65% \n",
      "    \n"
     ]
    }
   ],
   "source": [
    "# Paso 2 llamar a la funsion e imprimir el reporte\n",
    "print(reporte(70, 70, 65))"
   ]
  },
  {
   "cell_type": "code",
   "execution_count": 15,
   "metadata": {},
   "outputs": [
    {
     "data": {
      "text/plain": [
       "78.66667"
      ]
     },
     "execution_count": 15,
     "metadata": {},
     "output_type": "execute_result"
    }
   ],
   "source": [
    "# Paso 2 crear una nueva función para el promedio \n",
    "def promedio(values):\n",
    "    total = sum(values)\n",
    "    numero_tanques = len(values)\n",
    "    return round(total / numero_tanques,5)"
   ]
  },
  {
   "cell_type": "code",
   "execution_count": 19,
   "metadata": {},
   "outputs": [],
   "source": [
    "# Paso 4 actualizar la función\n",
    "def reporte(tanque_prin, tanque_sec, tanque_ter):\n",
    "    return f\"\"\"Reporte Actualizado:\n",
    "    El promedio del combustibles es:  {promedio([tanque_prin, tanque_sec, tanque_ter])}%\n",
    "    Primer Tanque: {tanque_prin}%\n",
    "    Segundo Tanque: {tanque_sec}%\n",
    "    Tercer Tanque: {tanque_ter}% \n",
    "    \"\"\"\n"
   ]
  },
  {
   "cell_type": "code",
   "execution_count": 20,
   "metadata": {},
   "outputs": [
    {
     "name": "stdout",
     "output_type": "stream",
     "text": [
      "Reporte Actualizado:\n",
      "    El promedio del combustibles es:  78.0%\n",
      "    Primer Tanque: 88%\n",
      "    Segundo Tanque: 76%\n",
      "    Tercer Tanque: 70% \n",
      "    \n"
     ]
    }
   ],
   "source": [
    "# Paso 5 probar la nueva función\n",
    "print(reporte(88, 76, 70))"
   ]
  },
  {
   "cell_type": "markdown",
   "metadata": {},
   "source": [
    "## Ejercicio 2 "
   ]
  },
  {
   "cell_type": "code",
   "execution_count": 23,
   "metadata": {},
   "outputs": [
    {
     "name": "stdout",
     "output_type": "stream",
     "text": [
      " Reporte completo de la misión\n",
      "    ---------------------------------------------\n",
      "    Destino a: Marte\n",
      "    Timepo total de viaje: 60 minutes\n",
      "    Combustible restante: 1000000 gallones\n",
      "    \n"
     ]
    }
   ],
   "source": [
    "# Paso 1 crear la función con un informe presico de la misión\n",
    "def mision (prelanzamiento, t_vuelo, destino, tanque_externo,tanque_interno):\n",
    "    return f\"\"\" Reporte completo de la misión\n",
    "    ---------------------------------------------\n",
    "    Destino a: {destino}\n",
    "    Tiempo total de viaje: {prelanzamiento + t_vuelo} minutes\n",
    "    Combustible restante: {tanque_externo + tanque_interno} gallones\n",
    "    \"\"\"\n",
    "\n",
    "print(mision(15, 45, \"Marte\", 600000, 400000))"
   ]
  },
  {
   "cell_type": "code",
   "execution_count": 27,
   "metadata": {},
   "outputs": [
    {
     "name": "stdout",
     "output_type": "stream",
     "text": [
      " Reporte completo de la misión actualizada \n",
      "    ---------------------------------------------\n",
      "    Destino a: Jupiter\n",
      "    Tiempo total de viaje:85 minutes\n",
      "    Combustible restante: 550000\n",
      "    \n"
     ]
    }
   ],
   "source": [
    "#Paso 2 crear una nueva función de reporte \n",
    "def mision_reporte(destino, *minutos, **numero_tanques):\n",
    "    return f\"\"\" Reporte completo de la misión actualizada \n",
    "    ---------------------------------------------\n",
    "    Destino a: {destino}\n",
    "    Tiempo total de viaje:{sum(minutos)} minutes\n",
    "    Combustible restante: {sum(numero_tanques.values())}\n",
    "    \"\"\"\n",
    "\n",
    "print(mision_reporte(\"Jupiter\", 25, 15, 45, tanque1=250000, tanque2=300000))"
   ]
  },
  {
   "cell_type": "code",
   "execution_count": null,
   "metadata": {},
   "outputs": [],
   "source": [
    "def mission_report(destination, *minutes, **fuel_reservoirs):\n",
    "    main_report = f\"\"\"\n",
    "    Mission to {destination}\n",
    "    Total travel time: {sum(minutes)} minutes\n",
    "    Total fuel left: {sum(fuel_reservoirs.values())}\n",
    "    \"\"\"\n",
    "    for tank_name, gallons in fuel_reservoirs.items():\n",
    "        main_report += f\"{tank_name} tank --> {gallons} gallons left\\n\"\n",
    "    return main_report\n",
    "\n",
    "print(mission_report(\"Moon\", 8, 11, 55, main=300000, external=200000))"
   ]
  }
 ],
 "metadata": {
  "interpreter": {
   "hash": "2be5faf79681da6f2a61fdfdd5405d65d042280f7fba6178067603e3a2925119"
  },
  "kernelspec": {
   "display_name": "Python 3.10.1 64-bit",
   "language": "python",
   "name": "python3"
  },
  "language_info": {
   "codemirror_mode": {
    "name": "ipython",
    "version": 3
   },
   "file_extension": ".py",
   "mimetype": "text/x-python",
   "name": "python",
   "nbconvert_exporter": "python",
   "pygments_lexer": "ipython3",
   "version": "3.10.1"
  },
  "orig_nbformat": 4
 },
 "nbformat": 4,
 "nbformat_minor": 2
}
