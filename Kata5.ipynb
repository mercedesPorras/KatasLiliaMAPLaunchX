{
 "cells": [
  {
   "cell_type": "markdown",
   "metadata": {},
   "source": [
    "# Ejercicio 1"
   ]
  },
  {
   "cell_type": "code",
   "execution_count": 1,
   "metadata": {},
   "outputs": [],
   "source": [
    "#Parte 1 crear variables \n",
    "tierra=149597870 \n",
    "jupiter=778547200"
   ]
  },
  {
   "cell_type": "code",
   "execution_count": 9,
   "metadata": {},
   "outputs": [
    {
     "name": "stdout",
     "output_type": "stream",
     "text": [
      "La distacia en Km entre los planetas es= 628949330\n",
      "La distacia en Millas entre los planetas es= 390577534\n"
     ]
    }
   ],
   "source": [
    "#Parte 2 calcular la distancias\n",
    "from math import ceil\n",
    "distancia_km = jupiter - tierra\n",
    "print(\"La distacia en Km entre los planetas es= \" + str(distancia_km))\n",
    "\n",
    "distancia_millas = ceil(distancia_km * 0.621)\n",
    "print(\"La distacia en Millas entre los planetas es= \" + str(distancia_millas))"
   ]
  },
  {
   "cell_type": "markdown",
   "metadata": {},
   "source": [
    "## Ejercicio 2"
   ]
  },
  {
   "cell_type": "code",
   "execution_count": 14,
   "metadata": {},
   "outputs": [],
   "source": [
    "#Parte 1 almacenar entrada de texto\n",
    "planeta1 = input('Introduzca la distancia desde el sol al primer planeta en KM')\n",
    "planeta2 = input('Introduzca la distancia desde el sol al segundo planeta en KM')"
   ]
  },
  {
   "cell_type": "code",
   "execution_count": 15,
   "metadata": {},
   "outputs": [],
   "source": [
    "#Parte 2 convertir las distacias en int\n",
    "planeta1 = int(planeta1)\n",
    "planeta2 = int(planeta2)"
   ]
  },
  {
   "cell_type": "code",
   "execution_count": 16,
   "metadata": {},
   "outputs": [
    {
     "name": "stdout",
     "output_type": "stream",
     "text": [
      "La distancia entre los planetas en Km es= 550700000\n",
      "La distancia entre los planetas en Millas es= 390577534\n"
     ]
    }
   ],
   "source": [
    "# Parte 3 realizar el cálculo y determinar el valor absoluto\n",
    "distancia_km = planeta2 - planeta1\n",
    "print(\"La distancia entre los planetas en Km es= \" + str(distancia_km))\n",
    "\n",
    "distancia_milla = distancia_km * 0.621\n",
    "print(\"La distancia entre los planetas en Msillas es= \" + str(abs(distancia_millas)))"
   ]
  }
 ],
 "metadata": {
  "interpreter": {
   "hash": "2be5faf79681da6f2a61fdfdd5405d65d042280f7fba6178067603e3a2925119"
  },
  "kernelspec": {
   "display_name": "Python 3.10.1 64-bit",
   "language": "python",
   "name": "python3"
  },
  "language_info": {
   "codemirror_mode": {
    "name": "ipython",
    "version": 3
   },
   "file_extension": ".py",
   "mimetype": "text/x-python",
   "name": "python",
   "nbconvert_exporter": "python",
   "pygments_lexer": "ipython3",
   "version": "3.10.1"
  },
  "orig_nbformat": 4
 },
 "nbformat": 4,
 "nbformat_minor": 2
}
